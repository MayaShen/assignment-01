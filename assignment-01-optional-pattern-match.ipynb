{
 "cells": [
  {
   "cell_type": "code",
   "execution_count": 24,
   "metadata": {},
   "outputs": [],
   "source": [
    "def is_variable(item):\n",
    "    return item.startswith('?') and all(s.isalpha() for s in item[1:])\n",
    "\n",
    "def pattern_match(pattern, saying):\n",
    "    if not pattern or not saying: \n",
    "        return []\n",
    "    \n",
    "    if is_variable(pattern[0]):\n",
    "        return [(pattern[0], saying[0])] + pattern_match(pattern[1:], saying[1:])\n",
    "    else:\n",
    "        if pattern[0] != saying[0]: return []\n",
    "        else:\n",
    "            return pattern_match(pattern[1:], saying[1:])"
   ]
  },
  {
   "cell_type": "code",
   "execution_count": 25,
   "metadata": {},
   "outputs": [
    {
     "data": {
      "text/plain": [
       "[('?X', 'holiday')]"
      ]
     },
     "execution_count": 25,
     "metadata": {},
     "output_type": "execute_result"
    }
   ],
   "source": [
    "pattern_match('I want ?X'.split(), \"I want holiday\".split())"
   ]
  },
  {
   "cell_type": "code",
   "execution_count": 26,
   "metadata": {},
   "outputs": [
    {
     "name": "stdout",
     "output_type": "stream",
     "text": [
      "[('?X', '3'), ('?Y', '2')]\n"
     ]
    }
   ],
   "source": [
    "patterns = pattern_match(\"?X greater than ?Y\".split(), \"3 greater than 2\".split())\n",
    "print(patterns)"
   ]
  },
  {
   "cell_type": "code",
   "execution_count": 57,
   "metadata": {},
   "outputs": [
    {
     "name": "stdout",
     "output_type": "stream",
     "text": [
      "{'?X': '3', '?Y': '2'}\n"
     ]
    }
   ],
   "source": [
    "def pattern_to_dic(patterns):\n",
    "    return {k: ' '.join(v) if isinstance(v, list) else v for k, v in patterns}\n",
    "print(pattern_to_dic(patterns))"
   ]
  },
  {
   "cell_type": "code",
   "execution_count": 58,
   "metadata": {},
   "outputs": [],
   "source": [
    "def subsidy(rule, parsed_pattern):\n",
    "    if not rule: return []\n",
    "    return [parsed_pattern.get(rule[0], rule[0])] + subsidy(rule[1:], parsed_pattern)"
   ]
  },
  {
   "cell_type": "code",
   "execution_count": 59,
   "metadata": {},
   "outputs": [
    {
     "name": "stdout",
     "output_type": "stream",
     "text": [
      "What does it mean if you got a iPhone\n"
     ]
    }
   ],
   "source": [
    "got_patterns = pattern_match(\"I want ?X\".split(), \"I want iPhone\".split())\n",
    "#print(got_patterns)\n",
    "answer = subsidy('What does it mean if you got a ?X'.split(), pattern_to_dic(got_patterns))\n",
    "\n",
    "join_answer = ' '.join(answer)\n",
    "print(join_answer)"
   ]
  },
  {
   "cell_type": "code",
   "execution_count": 60,
   "metadata": {},
   "outputs": [
    {
     "name": "stdout",
     "output_type": "stream",
     "text": [
      "[('?P', 'John'), ('?X', 'resting')]\n",
      "Why does John need resting\n"
     ]
    }
   ],
   "source": [
    "got_pattern = pattern_match('?P needs ?X'.split(), 'John needs resting'.split())\n",
    "print(got_pattern)\n",
    "answer = subsidy('Why does ?P need ?X'.split(), pattern_to_dic(got_pattern))\n",
    "join_answer = ' '.join(answer)\n",
    "print(join_answer)"
   ]
  },
  {
   "cell_type": "code",
   "execution_count": 61,
   "metadata": {},
   "outputs": [],
   "source": [
    "defined_patterns = {\n",
    "    \"I need ?X\": [\"Image you will get ?X soon\", \"Why do you need ?X ?\"], \n",
    "    \"My ?X told me something\": [\"Talk about more about your ?X\", \"How do you think about your ?X ?\"]\n",
    "}\n"
   ]
  },
  {
   "cell_type": "code",
   "execution_count": 62,
   "metadata": {},
   "outputs": [
    {
     "name": "stdout",
     "output_type": "stream",
     "text": [
      "Image you will get iPhone soon\n",
      "How do you think about your mother ?\n"
     ]
    }
   ],
   "source": [
    "import random\n",
    "choice = random.choice\n",
    "\n",
    "def get_response(saying, rules):\n",
    "    if (not saying) or (not rules): return []\n",
    "   \n",
    "    # find the matching pattern\n",
    "    for pattern, answer_pattern in defined_patterns.items():\n",
    "        matched_pattern = pattern_match(pattern.split(), saying.split())\n",
    "        if not matched_pattern: continue\n",
    "        else:\n",
    "            return ' '.join(subsidy((choice(answer_pattern)).split(), pattern_to_dic(matched_pattern)))\n",
    "            \n",
    "print(get_response('I need iPhone', defined_patterns))\n",
    "print(get_response(\"My mother told me something\", defined_patterns))"
   ]
  },
  {
   "cell_type": "code",
   "execution_count": 183,
   "metadata": {},
   "outputs": [],
   "source": [
    "def is_pattern_segment(pattern):\n",
    "    return pattern.startswith('?*') and all(a.isalpha() for a in pattern[2:])\n",
    "\n",
    "def is_match(rest, saying):\n",
    "    #print(rest, saying)\n",
    "    if not rest or not saying:\n",
    "        return True\n",
    "    if not all(a.isalpha() for a in rest[0]):\n",
    "        return True\n",
    "    if rest[0] != saying[0]:\n",
    "        return False\n",
    "    return is_match(rest[1:], saying[1:])\n",
    "\n",
    "def segment_match(pattern, saying):\n",
    "    seg_pat, rest = pattern[0], pattern[1:]\n",
    "    seg_pat = seg_pat.replace('?*', '?')\n",
    "\n",
    "    if not rest: return (seg_pat, saying), len(saying)    \n",
    "    \n",
    "    for i, token in enumerate(saying):\n",
    "        if rest[0] == token and is_match(rest[1:], saying[(i + 1):]):\n",
    "            return (seg_pat, saying[:i]), i\n",
    "    \n",
    "    return ('', ''), 0"
   ]
  },
  {
   "cell_type": "code",
   "execution_count": 188,
   "metadata": {},
   "outputs": [
    {
     "data": {
      "text/plain": [
       "(('?P', ['My', 'dog', 'and', 'my', 'cat']), 5)"
      ]
     },
     "execution_count": 188,
     "metadata": {},
     "output_type": "execute_result"
    }
   ],
   "source": [
    "segment_match('?*P is very good'.split(), \"My dog and my cat is very good\".split())\n"
   ]
  },
  {
   "cell_type": "code",
   "execution_count": 189,
   "metadata": {},
   "outputs": [],
   "source": [
    "fail = [True, None]\n",
    "def pat_match_with_seg(pattern, saying):\n",
    "    if not pattern or not saying: return []\n",
    "    \n",
    "    pat = pattern[0]\n",
    "    \n",
    "    if is_variable(pat):\n",
    "        return [pat, saying[0]] + pat_match_with_seg(pattern[1:], saying[1:])\n",
    "    elif is_pattern_segment(pat):\n",
    "        match, index = segment_match(pattern, saying)\n",
    "        if index == 0: #no match\n",
    "            return fail\n",
    "        return [match]+ pat_match_with_seg(pattern[1:], saying[index:])\n",
    "    elif pat == saying[0]:\n",
    "        return pat_match_with_seg(pattern[1:], saying[1:])\n",
    "    else:\n",
    "        return fail"
   ]
  },
  {
   "cell_type": "code",
   "execution_count": 190,
   "metadata": {},
   "outputs": [
    {
     "name": "stdout",
     "output_type": "stream",
     "text": [
      "[('?P', ['My', 'dog']), ('?X', ['my', 'cat', 'is', 'very', 'cute'])]\n"
     ]
    },
    {
     "data": {
      "text/plain": [
       "[True, None]"
      ]
     },
     "execution_count": 190,
     "metadata": {},
     "output_type": "execute_result"
    }
   ],
   "source": [
    "print(pat_match_with_seg('?*P is very good and ?*X'.split(), \"My dog is very good and my cat is very cute\".split()))\n",
    "pat_match_with_seg('?*X hello ?*Y'.split(), 'I was smart'.split())"
   ]
  },
  {
   "cell_type": "code",
   "execution_count": 191,
   "metadata": {},
   "outputs": [
    {
     "data": {
      "text/plain": [
       "[('?X', ['an', 'iPhone'])]"
      ]
     },
     "execution_count": 191,
     "metadata": {},
     "output_type": "execute_result"
    }
   ],
   "source": [
    "response_pair = {\n",
    "    'I need ?X': [\n",
    "        \"Why do you neeed ?X\"\n",
    "    ],\n",
    "    \"I dont like my ?X\": [\"What bad things did ?X do for you?\"]\n",
    "}\n",
    "\n",
    "pat_match_with_seg('I need ?*X'.split(), 'I need an iPhone'.split())"
   ]
  },
  {
   "cell_type": "code",
   "execution_count": 192,
   "metadata": {},
   "outputs": [
    {
     "data": {
      "text/plain": [
       "'I like my cat'"
      ]
     },
     "execution_count": 192,
     "metadata": {},
     "output_type": "execute_result"
    }
   ],
   "source": [
    "words = subsidy(\"Why do you need ?X\".split(), pattern_to_dic(pat_match_with_seg('I need ?*X'.split(), \n",
    "                  \"I need an iPhone\".split())))\n",
    "' '.join(words)\n",
    "\n",
    "words = subsidy(\"I like ?X\".split(), pattern_to_dic(pat_match_with_seg('?*X is cute'.split(), \n",
    "                  \"my cat is cute\".split())))\n",
    "' '.join(words)\n"
   ]
  },
  {
   "cell_type": "code",
   "execution_count": 197,
   "metadata": {},
   "outputs": [],
   "source": [
    "rules = {\n",
    "    \"?*X hello ?*Y\": [\"Hi, how do you do?\"],\n",
    "    \"I was ?*X\": [\"Were you really ?X ?\", \"I already knew you were ?X .\"]\n",
    "}\n",
    "\n",
    "def get_response(saying, response_rules):\n",
    "    if not saying or not response_rules: return ''\n",
    "    \n",
    "    for pattern, response in response_rules.items():\n",
    "        match = pat_match_with_seg(pattern.split(), saying.split())\n",
    "        if fail == match:\n",
    "            continue\n",
    "        else:\n",
    "            #print(match)\n",
    "            return ' '.join(subsidy(choice(response).split(), pattern_to_dic(match)))\n",
    "    return ''"
   ]
  },
  {
   "cell_type": "code",
   "execution_count": 198,
   "metadata": {},
   "outputs": [
    {
     "data": {
      "text/plain": [
       "'I already knew you were good at table tennis .'"
      ]
     },
     "execution_count": 198,
     "metadata": {},
     "output_type": "execute_result"
    }
   ],
   "source": [
    "get_response('I was good at table tennis', rules)"
   ]
  },
  {
   "cell_type": "code",
   "execution_count": 211,
   "metadata": {},
   "outputs": [
    {
     "name": "stdout",
     "output_type": "stream",
     "text": [
      "How do you do\n",
      "Why do you want a holiday\n"
     ]
    }
   ],
   "source": [
    "rule_responses = {\n",
    "    '?*x hello ?*y': ['How do you do', 'Please state your problem'],\n",
    "    '?*x I want ?*y': ['what would it mean if you got ?y', 'Why do you want ?y', 'Suppose you got ?y soon'],\n",
    "    '?*x if ?*y': ['Do you really think its likely that ?y', 'Do you wish that ?y', 'What do you think about ?y', 'Really-- if ?y'],\n",
    "    '?*x not ?*y': ['why not?', 'You are being a negative', 'Are you saying \\'No\\' just to be negative?'],\n",
    "    '?*x I was ?*y': ['Were you really', 'Perhaps I already knew you were ?y', 'Why do you tell me you were ?y now?'],\n",
    "    '?*x I feel ?*y': ['Do you often feel ?y ?', 'What other feelings do you have?']\n",
    "}\n",
    "\n",
    "print(get_response('Alexa, hello', rule_responses));\n",
    "print(get_response('Alexa, I want a holiday', rule_responses));"
   ]
  },
  {
   "cell_type": "code",
   "execution_count": null,
   "metadata": {},
   "outputs": [],
   "source": []
  },
  {
   "cell_type": "code",
   "execution_count": null,
   "metadata": {},
   "outputs": [],
   "source": []
  }
 ],
 "metadata": {
  "kernelspec": {
   "display_name": "Python 3",
   "language": "python",
   "name": "python3"
  },
  "language_info": {
   "codemirror_mode": {
    "name": "ipython",
    "version": 3
   },
   "file_extension": ".py",
   "mimetype": "text/x-python",
   "name": "python",
   "nbconvert_exporter": "python",
   "pygments_lexer": "ipython3",
   "version": "3.7.3"
  }
 },
 "nbformat": 4,
 "nbformat_minor": 2
}

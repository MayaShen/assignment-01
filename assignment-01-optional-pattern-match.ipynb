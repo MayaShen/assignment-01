{
 "cells": [
  {
   "cell_type": "code",
   "execution_count": 6,
   "metadata": {},
   "outputs": [],
   "source": [
    "def is_variable(item):\n",
    "    return item.startswith('?') and all(s.isalpha() for s in item[1:])\n",
    "\n",
    "def pattern_match(pattern, saying):\n",
    "    if not pattern or not saying: \n",
    "        return []\n",
    "    \n",
    "    if is_variable(pattern[0]):\n",
    "        return [(pattern[0], saying[0])] + pattern_match(pattern[1:], saying[1:])\n",
    "    else:\n",
    "        if pattern[0] != saying[0]: return []\n",
    "        else:\n",
    "            return pattern_match(pattern[1:], saying[1:])"
   ]
  },
  {
   "cell_type": "code",
   "execution_count": 7,
   "metadata": {},
   "outputs": [
    {
     "data": {
      "text/plain": [
       "[('?X', 'holiday')]"
      ]
     },
     "execution_count": 7,
     "metadata": {},
     "output_type": "execute_result"
    }
   ],
   "source": [
    "pattern_match('I want ?X'.split(), \"I want holiday\".split())"
   ]
  },
  {
   "cell_type": "code",
   "execution_count": 8,
   "metadata": {},
   "outputs": [
    {
     "name": "stdout",
     "output_type": "stream",
     "text": [
      "[('?X', '3'), ('?Y', '2')]\n"
     ]
    }
   ],
   "source": [
    "patterns = pattern_match(\"?X greater than ?Y\".split(), \"3 greater than 2\".split())\n",
    "print(patterns)"
   ]
  },
  {
   "cell_type": "code",
   "execution_count": 9,
   "metadata": {},
   "outputs": [
    {
     "name": "stdout",
     "output_type": "stream",
     "text": [
      "{'?X': '3', '?Y': '2'}\n"
     ]
    }
   ],
   "source": [
    "def pattern_to_dic(patterns):\n",
    "    return {k: ' '.join(v) if isinstance(v, list) else v for k, v in patterns}\n",
    "print(pattern_to_dic(patterns))"
   ]
  },
  {
   "cell_type": "code",
   "execution_count": 57,
   "metadata": {},
   "outputs": [],
   "source": [
    "#['?x你好呀?y'] {'?x': 'Alexa', '?y': 'Maya'}\n",
    "def subsidy(rule, parsed_pattern):\n",
    "    if not rule: return []\n",
    "    return [parsed_pattern.get(rule[0], rule[0])] + subsidy(rule[1:], parsed_pattern)"
   ]
  },
  {
   "cell_type": "code",
   "execution_count": 58,
   "metadata": {},
   "outputs": [
    {
     "name": "stdout",
     "output_type": "stream",
     "text": [
      "['What', 'does', 'it', 'mean', 'if', 'you', 'got', 'a', 'iPhone']\n",
      "What does it mean if you got a iPhone\n"
     ]
    }
   ],
   "source": [
    "got_patterns = pattern_match(\"I want ?X\".split(), \"I want iPhone\".split())\n",
    "#print(got_patterns)\n",
    "answer = subsidy('What does it mean if you got a ?X'.split(), pattern_to_dic(got_patterns))\n",
    "print(answer)\n",
    "join_answer = ' '.join(answer)\n",
    "print(join_answer)"
   ]
  },
  {
   "cell_type": "code",
   "execution_count": 12,
   "metadata": {},
   "outputs": [
    {
     "name": "stdout",
     "output_type": "stream",
     "text": [
      "[('?P', 'John'), ('?X', 'resting')]\n",
      "Why does John need resting\n"
     ]
    }
   ],
   "source": [
    "got_pattern = pattern_match('?P needs ?X'.split(), 'John needs resting'.split())\n",
    "print(got_pattern)\n",
    "answer = subsidy('Why does ?P need ?X'.split(), pattern_to_dic(got_pattern))\n",
    "join_answer = ' '.join(answer)\n",
    "print(join_answer)"
   ]
  },
  {
   "cell_type": "code",
   "execution_count": 13,
   "metadata": {},
   "outputs": [],
   "source": [
    "defined_patterns = {\n",
    "    \"I need ?X\": [\"Image you will get ?X soon\", \"Why do you need ?X ?\"], \n",
    "    \"My ?X told me something\": [\"Talk about more about your ?X\", \"How do you think about your ?X ?\"]\n",
    "}\n"
   ]
  },
  {
   "cell_type": "code",
   "execution_count": 14,
   "metadata": {},
   "outputs": [
    {
     "name": "stdout",
     "output_type": "stream",
     "text": [
      "Image you will get iPhone soon\n",
      "Talk about more about your mother\n"
     ]
    }
   ],
   "source": [
    "import random\n",
    "choice = random.choice\n",
    "\n",
    "def get_response(saying, rules):\n",
    "    if (not saying) or (not rules): return []\n",
    "   \n",
    "    # find the matching pattern\n",
    "    for pattern, answer_pattern in defined_patterns.items():\n",
    "        matched_pattern = pattern_match(pattern.split(), saying.split())\n",
    "        if not matched_pattern: continue\n",
    "        else:\n",
    "            return ' '.join(subsidy((choice(answer_pattern)).split(), pattern_to_dic(matched_pattern)))\n",
    "            \n",
    "print(get_response('I need iPhone', defined_patterns))\n",
    "print(get_response(\"My mother told me something\", defined_patterns))"
   ]
  },
  {
   "cell_type": "code",
   "execution_count": 126,
   "metadata": {},
   "outputs": [],
   "source": [
    "def is_pattern_segment(pattern):\n",
    "    return pattern.startswith('?*') and all(a.isalpha() for a in pattern[2:])\n",
    "\n",
    "def is_match(rest, saying):\n",
    "    #print(rest, saying)\n",
    "    if not rest or not saying:\n",
    "        return True\n",
    "    if not all(a.isalpha() for a in rest[0]):\n",
    "        return True\n",
    "    if rest[0] != saying[0]:\n",
    "        return False\n",
    "    return is_match(rest[1:], saying[1:])\n",
    "\n",
    "def segment_match(pattern, saying):\n",
    "    seg_pat, rest = pattern[0], pattern[1:]\n",
    "    seg_pat = seg_pat.replace('?*', '?')\n",
    "\n",
    "    if not rest: return (seg_pat, saying), len(saying)    \n",
    "    \n",
    "    for i, token in enumerate(saying):\n",
    "        if rest[0] == token and is_match(rest[1:], saying[(i + 1):]):\n",
    "            return (seg_pat, saying[:i]), i\n",
    "    \n",
    "    return ('', ''), 0"
   ]
  },
  {
   "cell_type": "code",
   "execution_count": 127,
   "metadata": {},
   "outputs": [
    {
     "data": {
      "text/plain": [
       "(('?P', ['My', 'dog', 'and', 'my', 'cat']), 5)"
      ]
     },
     "execution_count": 127,
     "metadata": {},
     "output_type": "execute_result"
    }
   ],
   "source": [
    "segment_match('?*P is very good'.split(), \"My dog and my cat is very good\".split())\n"
   ]
  },
  {
   "cell_type": "code",
   "execution_count": 128,
   "metadata": {},
   "outputs": [],
   "source": [
    "fail = [True, None]\n",
    "def pat_match_with_seg(pattern, saying):\n",
    "    #print('pattern: {}, saying: {}'.format(pattern, saying))\n",
    "    if not pattern or not saying: return []\n",
    "    pat = pattern[0]\n",
    "    \n",
    "    if is_variable(pat):\n",
    "        return [pat, saying[0]] + pat_match_with_seg(pattern[1:], saying[1:])\n",
    "    elif is_pattern_segment(pat):\n",
    "        match, index = segment_match(pattern, saying)\n",
    "        #print(match)\n",
    "        if index == 0: #no match\n",
    "            return fail\n",
    "        return [match]+ pat_match_with_seg(pattern[1:], saying[index:])\n",
    "    elif pat == saying[0]:\n",
    "        return pat_match_with_seg(pattern[1:], saying[1:])\n",
    "    else:\n",
    "        return fail"
   ]
  },
  {
   "cell_type": "code",
   "execution_count": 129,
   "metadata": {},
   "outputs": [
    {
     "name": "stdout",
     "output_type": "stream",
     "text": [
      "[('?P', ['My', 'dog']), ('?X', ['my', 'cat', 'is', 'very', 'cute'])]\n"
     ]
    },
    {
     "data": {
      "text/plain": [
       "[True, None]"
      ]
     },
     "execution_count": 129,
     "metadata": {},
     "output_type": "execute_result"
    }
   ],
   "source": [
    "print(pat_match_with_seg('?*P is very good and ?*X'.split(), \"My dog is very good and my cat is very cute\".split()))\n",
    "pat_match_with_seg('?*X hello ?*Y'.split(), 'I was smart'.split())"
   ]
  },
  {
   "cell_type": "code",
   "execution_count": 130,
   "metadata": {},
   "outputs": [
    {
     "data": {
      "text/plain": [
       "[('?X', ['an', 'iPhone'])]"
      ]
     },
     "execution_count": 130,
     "metadata": {},
     "output_type": "execute_result"
    }
   ],
   "source": [
    "response_pair = {\n",
    "    'I need ?X': [\n",
    "        \"Why do you neeed ?X\"\n",
    "    ],\n",
    "    \"I dont like my ?X\": [\"What bad things did ?X do for you?\"]\n",
    "}\n",
    "\n",
    "pat_match_with_seg('I need ?*X'.split(), 'I need an iPhone'.split())"
   ]
  },
  {
   "cell_type": "code",
   "execution_count": 131,
   "metadata": {},
   "outputs": [
    {
     "data": {
      "text/plain": [
       "'I like my cat'"
      ]
     },
     "execution_count": 131,
     "metadata": {},
     "output_type": "execute_result"
    }
   ],
   "source": [
    "words = subsidy(\"Why do you need ?X\".split(), pattern_to_dic(pat_match_with_seg('I need ?*X'.split(), \n",
    "                  \"I need an iPhone\".split())))\n",
    "' '.join(words)\n",
    "\n",
    "words = subsidy(\"I like ?X\".split(), pattern_to_dic(pat_match_with_seg('?*X is cute'.split(), \n",
    "                  \"my cat is cute\".split())))\n",
    "' '.join(words)\n"
   ]
  },
  {
   "cell_type": "code",
   "execution_count": 132,
   "metadata": {},
   "outputs": [],
   "source": [
    "rules = {\n",
    "    \"?*X hello ?*Y\": [\"Hi, how do you do?\"],\n",
    "    \"I was ?*X\": [\"Were you really ?X ?\", \"I already knew you were ?X .\"]\n",
    "}\n",
    "\n",
    "def get_response(saying, response_rules):\n",
    "    if not saying or not response_rules: return ''\n",
    "    \n",
    "    for pattern, response in response_rules.items():\n",
    "        match = pat_match_with_seg(pattern.split(), saying.split())\n",
    "        if fail == match:\n",
    "            continue\n",
    "        else:\n",
    "            #print(match)\n",
    "            return ' '.join(subsidy(choice(response).split(), pattern_to_dic(match)))\n",
    "    return ''"
   ]
  },
  {
   "cell_type": "code",
   "execution_count": 133,
   "metadata": {},
   "outputs": [
    {
     "data": {
      "text/plain": [
       "'Were you really good at table tennis ?'"
      ]
     },
     "execution_count": 133,
     "metadata": {},
     "output_type": "execute_result"
    }
   ],
   "source": [
    "get_response('I was good at table tennis', rules)"
   ]
  },
  {
   "cell_type": "code",
   "execution_count": 134,
   "metadata": {},
   "outputs": [
    {
     "name": "stdout",
     "output_type": "stream",
     "text": [
      "Please state your problem\n",
      "what would it mean if you got a holiday\n"
     ]
    }
   ],
   "source": [
    "rule_responses = {\n",
    "    '?*x hello ?*y': ['How do you do', 'Please state your problem'],\n",
    "    '?*x I want ?*y': ['what would it mean if you got ?y', 'Why do you want ?y', 'Suppose you got ?y soon'],\n",
    "    '?*x if ?*y': ['Do you really think its likely that ?y', 'Do you wish that ?y', 'What do you think about ?y', 'Really-- if ?y'],\n",
    "    '?*x not ?*y': ['why not?', 'You are being a negative', 'Are you saying \\'No\\' just to be negative?'],\n",
    "    '?*x I was ?*y': ['Were you really', 'Perhaps I already knew you were ?y', 'Why do you tell me you were ?y now?'],\n",
    "    '?*x I feel ?*y': ['Do you often feel ?y ?', 'What other feelings do you have?']\n",
    "}\n",
    "\n",
    "print(get_response('Alexa, hello', rule_responses));\n",
    "print(get_response('Alexa, I want a holiday', rule_responses));"
   ]
  },
  {
   "cell_type": "code",
   "execution_count": 157,
   "metadata": {},
   "outputs": [],
   "source": [
    "import re\n",
    "def is_chinese_sentence(sentence):\n",
    "    chinese_model = re.compile(u'[\\u4e00-\\u9fa5]')\n",
    "    return None != chinese_model.search(sentence)\n",
    "\n",
    "import jieba\n",
    "jieba.load_userdict('./dict/userdict.txt')\n",
    "\n",
    "def cut(string):\n",
    "    return list(jieba.cut(string, cut_all = False))\n",
    " \n",
    "# parse both English and Chinese \n",
    "def get_response_ext(saying, response_rules):\n",
    "    if not saying or not response_rules: return ''\n",
    "    \n",
    "    is_saying_chinese = False\n",
    "    if is_chinese_sentence(saying):\n",
    "        is_saying_chinese = True\n",
    "    \n",
    "    for pattern, response in response_rules.items():\n",
    "        # check if language matches\n",
    "        if is_chinese_sentence(pattern) != is_saying_chinese:  #language doesn't match, skip\n",
    "            continue\n",
    "        \n",
    "        if is_saying_chinese:\n",
    "            match =  pat_match_with_seg(cut(pattern), cut(saying))\n",
    "        else:\n",
    "            match = match = pat_match_with_seg(pattern.split(), saying.split())\n",
    "\n",
    "        #print(match)\n",
    "        if fail == match:\n",
    "            continue\n",
    "        elif is_saying_chinese:\n",
    "            return ''.join( subsidy( cut(choice(response)), pattern_to_dic(match) ))\n",
    "        else:\n",
    "            return ' '.join(subsidy(choice(response).split(), pattern_to_dic(match)))\n",
    "    return ''"
   ]
  },
  {
   "cell_type": "code",
   "execution_count": 163,
   "metadata": {},
   "outputs": [
    {
     "name": "stdout",
     "output_type": "stream",
     "text": [
      "Perhaps I already knew you were good at table tennis\n",
      "How do you do, Maya\n",
      "请告诉我你的问题\n",
      "你可以想想你很快就可以滑雪了\n"
     ]
    }
   ],
   "source": [
    "chinese_rule_responses = {\n",
    "    \"I was ?*X\": [\"Were you really ?X ?\", \"I already knew you were ?X .\"],\n",
    "    '?*x I was ?*y': ['Were you really', 'Perhaps I already knew you were ?y', 'Why do you tell me you were ?y now?'],\n",
    "    '?*x,你好我是?*y': ['你好呀?y', '?y请告诉我你的问题'],\n",
    "    '?*x,我想?*y': ['你觉得?y有什么意义呢？', '为什么你想?y', '你可以想想你很快就可以?y了']\n",
    "}\n",
    "\n",
    "rule_responses_mix = {\n",
    "    '?*x hello I am ?*y': ['How do you do, ?y', 'Please state your problem'],\n",
    "    '?*x I want ?*y': ['what would it mean if you got ?y', 'Why do you want ?y', 'Suppose you got ?y soon'],\n",
    "    '?*x if ?*y': ['Do you really think its likely that ?y', 'Do you wish that ?y', 'What do you think about ?y', 'Really-- if ?y'],\n",
    "    '?*x no ?*y': ['why not?', 'You are being a negative', 'Are you saying \\'No\\' just to be negative?'],\n",
    "    '?*x I was ?*y': ['Were you really', 'Perhaps I already knew you were ?y', 'Why do you tell me you were ?y now?'],\n",
    "    '?*x I feel ?*y': ['Do you often feel ?y ?', 'What other feelings do you have?'],\n",
    "    '?*x你好?*y': ['你好呀', '请告诉我你的问题'],\n",
    "    '?*x我想?*y': ['你觉得?y有什么意义呢？', '为什么你想?y', '你可以想想你很快就可以?y了'],\n",
    "    '?*x我想要?*y': ['?x想问你，你觉得?y有什么意义呢?', '为什么你想?y', '?x觉得... 你可以想想你很快就可以有?y了', '你看?x像?y不', '我看你就像?y'],\n",
    "    '?*x喜欢?*y': ['喜欢?y的哪里？', '?y有什么好的呢？', '你想要?y吗？'],\n",
    "    '?*x讨厌?*y': ['?y怎么会那么讨厌呢?', '讨厌?y的哪里？', '?y有什么不好呢？', '你不想要?y吗？'],\n",
    "    '?*xAI?*y': ['你为什么要提AI的事情？', '你为什么觉得AI要解决你的问题？'],\n",
    "    '?*x机器人?*y': ['你为什么要提机器人的事情？', '你为什么觉得机器人要解决你的问题？'],\n",
    "    '?*x对不起?*y': ['不用道歉', '你为什么觉得你需要道歉呢?'],\n",
    "    '?*x我记得?*y': ['你经常会想起这个吗？', '除了?y你还会想起什么吗？', '你为什么和我提起?y'],\n",
    "    '?*x如果?*y': ['你真的觉得?y会发生吗？', '你希望?y吗?', '真的吗？如果?y的话', '关于?y你怎么想？'],\n",
    "    '?*x我?*z梦见?*y':['真的吗? --- ?y', '你在醒着的时候，以前想象过?y吗？', '你以前梦见过?y吗'],\n",
    "    '?*x妈妈?*y': ['你家里除了?y还有谁?', '嗯嗯，多说一点和你家里有关系的', '她对你影响很大吗？'],\n",
    "    '?*x爸爸?*y': ['你家里除了?y还有谁?', '嗯嗯，多说一点和你家里有关系的', '他对你影响很大吗？', '每当你想起你爸爸的时候， 你还会想起其他的吗?'],\n",
    "    '?*x我愿意?*y': ['我可以帮你?y吗？', '你可以解释一下，为什么想?y'],\n",
    "    '?*x我很难过，因为?*y': ['我听到你这么说， 也很难过', '?y不应该让你这么难过的'],\n",
    "    '?*x难过?*y': ['我听到你这么说， 也很难过',\n",
    "                 '不应该让你这么难过的，你觉得你拥有什么，就会不难过?',\n",
    "                 '你觉得事情变成什么样，你就不难过了?'],\n",
    "    '?*x就像?*y': ['你觉得?x和?y有什么相似性？', '?x和?y真的有关系吗？', '怎么说？'],\n",
    "    '?*x和?*y都?*z': ['你觉得?z有什么问题吗?', '?z会对你有什么影响呢?'],\n",
    "    '?*x和?*y一样?*z': ['你觉得?z有什么问题吗?', '?z会对你有什么影响呢?'],\n",
    "    '?*x我是?*y': ['真的吗？', '?x想告诉你，或许我早就知道你是?y', '你为什么现在才告诉我你是?y'],\n",
    "    '?*x我是?*y吗': ['如果你是?y会怎么样呢？', '你觉得你是?y吗', '如果你是?y，那一位着什么?'],\n",
    "    '?*x你是?*y吗':  ['你为什么会对我是不是?y感兴趣?', '那你希望我是?y吗', '你要是喜欢， 我就会是?y'],\n",
    "    '?*x你是?*y' : ['为什么你觉得我是?y'],\n",
    "    '?*x因为?*y' : ['?y是真正的原因吗？', '你觉得会有其他原因吗?'],\n",
    "    '?*x我不能?*y': ['你或许现在就能?*y', '如果你能?*y,会怎样呢？'],\n",
    "    '?*x我觉得?*y': ['你经常这样感觉吗？', '除了到这个，你还有什么其他的感觉吗？'],\n",
    "    '?*x我?*y你?*z': ['其实很有可能我们互相?y'],\n",
    "    '?*x你为什么不?*y': ['你自己为什么不?y', '你觉得我不会?y', '等我心情好了，我就?y'],\n",
    "    '?*x好的?*y': ['好的', '你是一个很正能量的人'],\n",
    "    '?*x嗯嗯?*y': ['好的', '你是一个很正能量的人'],\n",
    "    '?*x不嘛?*y': ['为什么不？', '你有一点负能量', '你说 不，是想表达不想的意思吗？'],\n",
    "    '?*x不要?*y': ['为什么不？', '你有一点负能量', '你说 不，是想表达不想的意思吗？'],\n",
    "    '?*x有些人?*y': ['具体是哪些人呢?'],\n",
    "    '?*x有的人?*y': ['具体是哪些人呢?'],\n",
    "    '?*x某些人?*y': ['具体是哪些人呢?'],\n",
    "    '?*x每个人?*y': ['我确定不是人人都是', '你能想到一点特殊情况吗？', '例如谁？', '你看到的其实只是一小部分人'],\n",
    "    '?*x所有人?*y': ['我确定不是人人都是', '你能想到一点特殊情况吗？', '例如谁？', '你看到的其实只是一小部分人'],\n",
    "    '?*x总是?*y': ['你能想到一些其他情况吗?', '例如什么时候?', '你具体是说哪一次？', '真的---总是吗？'],\n",
    "    '?*x一直?*y': ['你能想到一些其他情况吗?', '例如什么时候?', '你具体是说哪一次？', '真的---总是吗？'],\n",
    "    '?*x或许?*y': ['你看起来不太确定'],\n",
    "    '?*x可能?*y': ['你看起来不太确定'],\n",
    "    '?*x他们是?*y吗？': ['你觉得他们可能不是?y？'],\n",
    "    '?*x': ['很有趣', '请继续', '我不太确定我很理解你说的, 能稍微详细解释一下吗?']\n",
    "}\n",
    "\n",
    "def generate_responses(sayings):\n",
    "    for saying in sayings:\n",
    "        print(get_response_ext(saying, rule_responses_mix))\n",
    "\n",
    "sayings = [\n",
    "    'Alexa, I was good at table tennis',\n",
    "    'Alexa hello I am Maya',\n",
    "    'Alexa,你好我是Maya',\n",
    "    '小爱,我想滑雪'\n",
    "]\n",
    "\n",
    "generate_responses(sayings)\n"
   ]
  },
  {
   "cell_type": "code",
   "execution_count": null,
   "metadata": {},
   "outputs": [],
   "source": []
  }
 ],
 "metadata": {
  "kernelspec": {
   "display_name": "Python 3",
   "language": "python",
   "name": "python3"
  },
  "language_info": {
   "codemirror_mode": {
    "name": "ipython",
    "version": 3
   },
   "file_extension": ".py",
   "mimetype": "text/x-python",
   "name": "python",
   "nbconvert_exporter": "python",
   "pygments_lexer": "ipython3",
   "version": "3.7.3"
  }
 },
 "nbformat": 4,
 "nbformat_minor": 2
}

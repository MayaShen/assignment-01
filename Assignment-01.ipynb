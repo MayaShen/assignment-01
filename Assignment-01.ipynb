{
 "cells": [
  {
   "cell_type": "code",
   "execution_count": 8,
   "metadata": {},
   "outputs": [],
   "source": [
    "import random\n",
    "choice = random.choice\n",
    "\n",
    "def create_grammar(grammar_str, split='=>', line_split='\\n'):\n",
    "    grammar = {}\n",
    "    for line in grammar_str.split(line_split):\n",
    "        if not line.strip(): \n",
    "            continue\n",
    "        exp, statement = line.split(split)\n",
    "        grammar[exp.strip()] = [s.split() for s in statement.split('|')]\n",
    "    return grammar\n",
    "\n",
    "def generate(grammar, target):\n",
    "    if target not in grammar:\n",
    "        return target\n",
    "    expand = [generate(grammar, t) for t in choice(grammar[target])]\n",
    "    return ''.join([e if e != '\\n' else '\\n' for e in expand if e != 'null'])"
   ]
  },
  {
   "cell_type": "code",
   "execution_count": 9,
   "metadata": {},
   "outputs": [],
   "source": [
    "\n",
    "#一个“接待员”的语言可以定义为\n",
    "\n",
    "host = \"\"\"\n",
    "host = 寒暄 报数 询问 业务相关 结尾 \n",
    "报数 = 我是 数字 号 ,\n",
    "数字 = 单个数字 | 数字 单个数字 \n",
    "单个数字 = 1 | 2 | 3 | 4 | 5 | 6 | 7 | 8 | 9 \n",
    "寒暄 = 称谓 打招呼 | 打招呼\n",
    "称谓 = 人称 ,\n",
    "人称 = 先生 | 女士 | 小朋友\n",
    "打招呼 = 你好 | 您好 \n",
    "询问 = 请问你要 | 您需要\n",
    "业务相关 = 玩玩 具体业务\n",
    "玩玩 = null\n",
    "具体业务 = 喝酒 | 打牌 | 打猎 | 赌博\n",
    "结尾 = 吗？\n",
    "\"\"\"\n",
    "\n",
    "\n",
    "waiter = \"\"\"\n",
    "waiter = 寒暄 自我介绍 菜品推荐\n",
    "寒暄 = 称谓 好\n",
    "称谓 = 先生 | 女士 | 大家 | 你们\n",
    "自我介绍 = 我是 名字\n",
    "名字 = Tony | Peter | Ian\n",
    "菜品推荐 = 主厨推荐菜品有 头盘 配 汤 主菜 主菜菜品 搭配 酒 甜点可以选择 甜点菜品\n",
    "头盘 = 鱼子酱 | 鹅肝酱 | 鸡尾杯 | 焗蜗牛 | 熏鲑鱼\n",
    "汤 = 牛尾清汤 | 蘑菇奶油汤 | 海鲜汤 | 罗宋汤 | 美式蛤蜊周打汤 | 意式素菜汤 | 法式焗葱头汤\n",
    "主菜菜品 = 西冷牛排 | 沙朗牛排 | 海陆双品 | 德国猪脚 | 菲力牛排 | 美式肉眼排 | 法式羊肩肉\n",
    "酒 = Merlot | Pinot Noir\n",
    "甜点菜品 = 焦糖鸡蛋布丁 | 熔岩巧克力蛋糕 | 美式芝士蛋糕 | 哈根达斯冰激淋\n",
    "\"\"\""
   ]
  },
  {
   "cell_type": "code",
   "execution_count": 10,
   "metadata": {},
   "outputs": [
    {
     "name": "stdout",
     "output_type": "stream",
     "text": [
      "['女士好我是Peter主厨推荐菜品有熏鲑鱼配法式焗葱头汤主菜美式肉眼排搭配Merlot甜点可以选择焦糖鸡蛋布丁', '你们好我是Tony主厨推荐菜品有鸡尾杯配海鲜汤主菜西冷牛排搭配PinotNoir甜点可以选择焦糖鸡蛋布丁', '大家好我是Peter主厨推荐菜品有鸡尾杯配意式素菜汤主菜西冷牛排搭配Merlot甜点可以选择美式芝士蛋糕', '先生好我是Peter主厨推荐菜品有焗蜗牛配意式素菜汤主菜德国猪脚搭配PinotNoir甜点可以选择哈根达斯冰激淋', '女士好我是Ian主厨推荐菜品有鸡尾杯配罗宋汤主菜美式肉眼排搭配PinotNoir甜点可以选择焦糖鸡蛋布丁', '你们好我是Tony主厨推荐菜品有鱼子酱配意式素菜汤主菜菲力牛排搭配PinotNoir甜点可以选择美式芝士蛋糕', '大家好我是Peter主厨推荐菜品有熏鲑鱼配海鲜汤主菜菲力牛排搭配PinotNoir甜点可以选择焦糖鸡蛋布丁', '你们好我是Tony主厨推荐菜品有鹅肝酱配美式蛤蜊周打汤主菜菲力牛排搭配Merlot甜点可以选择美式芝士蛋糕', '大家好我是Peter主厨推荐菜品有熏鲑鱼配罗宋汤主菜菲力牛排搭配Merlot甜点可以选择熔岩巧克力蛋糕', '大家好我是Peter主厨推荐菜品有鹅肝酱配罗宋汤主菜沙朗牛排搭配PinotNoir甜点可以选择美式芝士蛋糕']\n"
     ]
    }
   ],
   "source": [
    "def generate_n(grammar_str, target, n):\n",
    "    sentences = []\n",
    "    for i in range(n):\n",
    "        sentences.append(generate(create_grammar(grammar_str, split='='), target=target))\n",
    "    return sentences\n",
    "\n",
    "print(generate_n(waiter, 'waiter', 10))"
   ]
  },
  {
   "cell_type": "code",
   "execution_count": 11,
   "metadata": {},
   "outputs": [
    {
     "name": "stderr",
     "output_type": "stream",
     "text": [
      "/Users/mayashen/anaconda3/lib/python3.7/site-packages/IPython/core/interactiveshell.py:3049: DtypeWarning: Columns (0,4) have mixed types. Specify dtype option on import or set low_memory=False.\n",
      "  interactivity=interactivity, compiler=compiler, result=result)\n"
     ]
    },
    {
     "data": {
      "text/html": [
       "<div>\n",
       "<style scoped>\n",
       "    .dataframe tbody tr th:only-of-type {\n",
       "        vertical-align: middle;\n",
       "    }\n",
       "\n",
       "    .dataframe tbody tr th {\n",
       "        vertical-align: top;\n",
       "    }\n",
       "\n",
       "    .dataframe thead th {\n",
       "        text-align: right;\n",
       "    }\n",
       "</style>\n",
       "<table border=\"1\" class=\"dataframe\">\n",
       "  <thead>\n",
       "    <tr style=\"text-align: right;\">\n",
       "      <th></th>\n",
       "      <th>id</th>\n",
       "      <th>link</th>\n",
       "      <th>name</th>\n",
       "      <th>comment</th>\n",
       "      <th>star</th>\n",
       "    </tr>\n",
       "  </thead>\n",
       "  <tbody>\n",
       "    <tr>\n",
       "      <th>0</th>\n",
       "      <td>1</td>\n",
       "      <td>https://movie.douban.com/subject/26363254/</td>\n",
       "      <td>战狼2</td>\n",
       "      <td>吴京意淫到了脑残的地步，看了恶心想吐</td>\n",
       "      <td>1</td>\n",
       "    </tr>\n",
       "    <tr>\n",
       "      <th>1</th>\n",
       "      <td>2</td>\n",
       "      <td>https://movie.douban.com/subject/26363254/</td>\n",
       "      <td>战狼2</td>\n",
       "      <td>首映礼看的。太恐怖了这个电影，不讲道理的，完全就是吴京在实现他这个小粉红的英雄梦。各种装备轮...</td>\n",
       "      <td>2</td>\n",
       "    </tr>\n",
       "    <tr>\n",
       "      <th>2</th>\n",
       "      <td>3</td>\n",
       "      <td>https://movie.douban.com/subject/26363254/</td>\n",
       "      <td>战狼2</td>\n",
       "      <td>吴京的炒作水平不输冯小刚，但小刚至少不会用主旋律来炒作…吴京让人看了不舒服，为了主旋律而主旋...</td>\n",
       "      <td>2</td>\n",
       "    </tr>\n",
       "    <tr>\n",
       "      <th>3</th>\n",
       "      <td>4</td>\n",
       "      <td>https://movie.douban.com/subject/26363254/</td>\n",
       "      <td>战狼2</td>\n",
       "      <td>凭良心说，好看到不像《战狼1》的续集，完虐《湄公河行动》。</td>\n",
       "      <td>4</td>\n",
       "    </tr>\n",
       "    <tr>\n",
       "      <th>4</th>\n",
       "      <td>5</td>\n",
       "      <td>https://movie.douban.com/subject/26363254/</td>\n",
       "      <td>战狼2</td>\n",
       "      <td>中二得很</td>\n",
       "      <td>1</td>\n",
       "    </tr>\n",
       "  </tbody>\n",
       "</table>\n",
       "</div>"
      ],
      "text/plain": [
       "  id                                        link name  \\\n",
       "0  1  https://movie.douban.com/subject/26363254/  战狼2   \n",
       "1  2  https://movie.douban.com/subject/26363254/  战狼2   \n",
       "2  3  https://movie.douban.com/subject/26363254/  战狼2   \n",
       "3  4  https://movie.douban.com/subject/26363254/  战狼2   \n",
       "4  5  https://movie.douban.com/subject/26363254/  战狼2   \n",
       "\n",
       "                                             comment star  \n",
       "0                                 吴京意淫到了脑残的地步，看了恶心想吐    1  \n",
       "1  首映礼看的。太恐怖了这个电影，不讲道理的，完全就是吴京在实现他这个小粉红的英雄梦。各种装备轮...    2  \n",
       "2  吴京的炒作水平不输冯小刚，但小刚至少不会用主旋律来炒作…吴京让人看了不舒服，为了主旋律而主旋...    2  \n",
       "3                      凭良心说，好看到不像《战狼1》的续集，完虐《湄公河行动》。    4  \n",
       "4                                               中二得很    1  "
      ]
     },
     "execution_count": 11,
     "metadata": {},
     "output_type": "execute_result"
    }
   ],
   "source": [
    "import pandas as pd\n",
    "\n",
    "filename = 'movie_comments.csv'\n",
    "data_content = pd.read_csv(filename)\n",
    "data_content.head()"
   ]
  },
  {
   "cell_type": "code",
   "execution_count": 12,
   "metadata": {},
   "outputs": [
    {
     "data": {
      "text/plain": [
       "261497"
      ]
     },
     "execution_count": 12,
     "metadata": {},
     "output_type": "execute_result"
    }
   ],
   "source": [
    "comments = data_content['comment'].tolist()\n",
    "len(comments)"
   ]
  },
  {
   "cell_type": "code",
   "execution_count": 13,
   "metadata": {},
   "outputs": [],
   "source": [
    "import re\n",
    "import jieba\n",
    "from collections import Counter\n",
    "\n",
    "\n",
    "def token(string):\n",
    "    return re.findall('\\w+', string)\n",
    "\n",
    "comments_clean = [''.join(token(str(comment)))for comment in comments]\n",
    "comments_str = ''.join([comment for comment in comments_clean])\n",
    "\n",
    "#print(comments_str[0:500])"
   ]
  },
  {
   "cell_type": "code",
   "execution_count": 14,
   "metadata": {},
   "outputs": [],
   "source": [
    "def cut(content):\n",
    "    return list(jieba.cut(content))"
   ]
  },
  {
   "cell_type": "code",
   "execution_count": 15,
   "metadata": {},
   "outputs": [
    {
     "name": "stderr",
     "output_type": "stream",
     "text": [
      "Building prefix dict from the default dictionary ...\n",
      "Loading model from cache /var/folders/wq/q4yhmng91fsffnp9vypkpq3w0000gn/T/jieba.cache\n",
      "Loading model cost 0.872 seconds.\n",
      "Prefix dict has been built succesfully.\n"
     ]
    }
   ],
   "source": [
    "TOKEN = {}\n",
    "TOKEN = cut(comments_str)"
   ]
  },
  {
   "cell_type": "code",
   "execution_count": 16,
   "metadata": {},
   "outputs": [
    {
     "data": {
      "text/plain": [
       "['吴京意淫', '意淫到', '到了', '了脑残', '脑残的', '的地步', '地步看', '看了', '了恶心', '恶心想']"
      ]
     },
     "execution_count": 16,
     "metadata": {},
     "output_type": "execute_result"
    }
   ],
   "source": [
    "TOKEN_2_GRAM = [''.join(TOKEN[i:i+2]) for i in range(len(TOKEN))]\n",
    "TOKEN_2_GRAM[:10]"
   ]
  },
  {
   "cell_type": "code",
   "execution_count": 17,
   "metadata": {},
   "outputs": [],
   "source": [
    "words_count_2 = Counter(TOKEN_2_GRAM)"
   ]
  },
  {
   "cell_type": "code",
   "execution_count": 18,
   "metadata": {},
   "outputs": [],
   "source": [
    "def prob_1(word):\n",
    "    return (Counter(TOKEN))[word] / len(TOKEN)"
   ]
  },
  {
   "cell_type": "code",
   "execution_count": 38,
   "metadata": {},
   "outputs": [],
   "source": [
    "def prob_2(word1, word2):\n",
    "    if word1 + word2 in words_count_2: \n",
    "        return words_count_2[word1+word2] / prob_1(word1)\n",
    "    else:\n",
    "        return 1 / len(TOKEN_2_GRAM)"
   ]
  },
  {
   "cell_type": "code",
   "execution_count": 39,
   "metadata": {},
   "outputs": [],
   "source": [
    "def get_probablity(sentence):\n",
    "    words = cut(sentence)\n",
    "    sentence_prob = 1\n",
    "    \n",
    "    for i, word in enumerate(words[:-1]):\n",
    "        next_word = words[i+1]\n",
    "        probability = prob_2(word, next_word)\n",
    "        sentence_prob *= probability\n",
    "    return sentence_prob"
   ]
  },
  {
   "cell_type": "code",
   "execution_count": 40,
   "metadata": {},
   "outputs": [
    {
     "data": {
      "text/plain": [
       "('先生好我是Peter主厨推荐菜品有鹅肝酱配蘑菇奶油汤主菜沙朗牛排搭配Merlot甜点可以选择美式芝士蛋糕',\n",
       " 1.2597682162426204e-96)"
      ]
     },
     "execution_count": 40,
     "metadata": {},
     "output_type": "execute_result"
    }
   ],
   "source": [
    "def generate_best(grammar_str, target):\n",
    "    sentence_list = generate_n(grammar_str, target, 10)\n",
    "    \n",
    "    sentence_probablities = []\n",
    "    for sentence in sentence_list:\n",
    "        prob = get_probablity(sentence)\n",
    "        item = (sentence, prob)\n",
    "        sentence_probablities.append(item) \n",
    "\n",
    "    #print(sentence_probablities)\n",
    "\n",
    "    sorted_sentences = sorted(sentence_probablities, key=lambda x: x[1], reverse=True)\n",
    "    return sorted_sentences[0]\n",
    "    \n",
    "generate_best(waiter, 'waiter')"
   ]
  },
  {
   "cell_type": "markdown",
   "metadata": {},
   "source": [
    "\n",
    "Q: 这个模型有什么问题？ 你准备如何提升？\n",
    "\n",
    "Ans:\n",
    "    -因为文本数据集的应用场景跟我所设定的应用场景相差很大，导致句子概率都很小，句子判断效果不是很好\n",
    "解决方法可以找跟应用场景相类似的数据集来做分析对比，效果应该会比当前有很大提升。\n",
    "    -当前模型使用的是2-gram，如果使用n-gram(n>2)也会使生成的句子更合理。"
   ]
  }
 ],
 "metadata": {
  "kernelspec": {
   "display_name": "Python 3",
   "language": "python",
   "name": "python3"
  },
  "language_info": {
   "codemirror_mode": {
    "name": "ipython",
    "version": 3
   },
   "file_extension": ".py",
   "mimetype": "text/x-python",
   "name": "python",
   "nbconvert_exporter": "python",
   "pygments_lexer": "ipython3",
   "version": "3.7.3"
  }
 },
 "nbformat": 4,
 "nbformat_minor": 2
}
